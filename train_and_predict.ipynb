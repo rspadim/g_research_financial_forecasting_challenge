{
 "cells": [
  {
   "cell_type": "code",
   "execution_count": 21,
   "metadata": {},
   "outputs": [],
   "source": [
    "import numpy as np\n",
    "import pandas as pd\n",
    "import lightgbm as lg\n",
    "from tqdm import tqdm\n",
    "import gc"
   ]
  },
  {
   "cell_type": "code",
   "execution_count": 22,
   "metadata": {
    "scrolled": true
   },
   "outputs": [],
   "source": [
    "# load data\n",
    "df = pd.read_csv('../train.csv', index_col=0)\n",
    "df_test = pd.read_csv('../test.csv', index_col=0)"
   ]
  },
  {
   "cell_type": "code",
   "execution_count": 23,
   "metadata": {},
   "outputs": [],
   "source": [
    "def feature_engineering(data_frame):\n",
    "    '''\n",
    "    feature engineering function.\n",
    "    \n",
    "    DataFrame -> DataFrame\n",
    "    '''\n",
    "    # creating new features\n",
    "    data_frame['new']  = data_frame['x3B'] - data_frame['x5']\n",
    "    data_frame['new2']  = data_frame['x3C'] - data_frame['x4']\n",
    "    data_frame['Day_group_10']  = np.digitize(data_frame.Day, list(range(0,730,10)))\n",
    "    \n",
    "    # scalling up \"small\" features\n",
    "    small_features_1 = ['x0','x2',\"x4\"]\n",
    "    small_features_2 = [\"x3A\",'x1', \"x3B\", \"x3C\", \"x3D\", \"x3E\", \"x5\", \"new\", \"new2\"]\n",
    "    data_frame[small_features_1]= data_frame[small_features_1]*1000\n",
    "    data_frame[small_features_2]= data_frame[small_features_2]*100000"
   ]
  },
  {
   "cell_type": "code",
   "execution_count": 24,
   "metadata": {},
   "outputs": [],
   "source": [
    "feature_engineering(df)\n",
    "feature_engineering(df_test)"
   ]
  },
  {
   "cell_type": "code",
   "execution_count": 25,
   "metadata": {},
   "outputs": [],
   "source": [
    "# X_train and X_test \n",
    "X_train = df.drop(['y','Weight','Day'],1)\n",
    "X_test = df_test.drop(['Day'],1)\n",
    "Y = df.y"
   ]
  },
  {
   "cell_type": "code",
   "execution_count": 26,
   "metadata": {
    "scrolled": true
   },
   "outputs": [
    {
     "data": {
      "text/html": [
       "<div>\n",
       "<style scoped>\n",
       "    .dataframe tbody tr th:only-of-type {\n",
       "        vertical-align: middle;\n",
       "    }\n",
       "\n",
       "    .dataframe tbody tr th {\n",
       "        vertical-align: top;\n",
       "    }\n",
       "\n",
       "    .dataframe thead th {\n",
       "        text-align: right;\n",
       "    }\n",
       "</style>\n",
       "<table border=\"1\" class=\"dataframe\">\n",
       "  <thead>\n",
       "    <tr style=\"text-align: right;\">\n",
       "      <th></th>\n",
       "      <th>Market</th>\n",
       "      <th>Stock</th>\n",
       "      <th>x0</th>\n",
       "      <th>x1</th>\n",
       "      <th>x2</th>\n",
       "      <th>x3A</th>\n",
       "      <th>x3B</th>\n",
       "      <th>x3C</th>\n",
       "      <th>x3D</th>\n",
       "      <th>x3E</th>\n",
       "      <th>x4</th>\n",
       "      <th>x5</th>\n",
       "      <th>x6</th>\n",
       "      <th>new</th>\n",
       "      <th>new2</th>\n",
       "      <th>Day_group_10</th>\n",
       "    </tr>\n",
       "    <tr>\n",
       "      <th>Index</th>\n",
       "      <th></th>\n",
       "      <th></th>\n",
       "      <th></th>\n",
       "      <th></th>\n",
       "      <th></th>\n",
       "      <th></th>\n",
       "      <th></th>\n",
       "      <th></th>\n",
       "      <th></th>\n",
       "      <th></th>\n",
       "      <th></th>\n",
       "      <th></th>\n",
       "      <th></th>\n",
       "      <th></th>\n",
       "      <th></th>\n",
       "      <th></th>\n",
       "    </tr>\n",
       "  </thead>\n",
       "  <tbody>\n",
       "    <tr>\n",
       "      <th>0</th>\n",
       "      <td>1</td>\n",
       "      <td>363</td>\n",
       "      <td>2.696447</td>\n",
       "      <td>53004.016031</td>\n",
       "      <td>400.809729</td>\n",
       "      <td>0.130005</td>\n",
       "      <td>0.463953</td>\n",
       "      <td>1.073594</td>\n",
       "      <td>2.180516</td>\n",
       "      <td>4.416943</td>\n",
       "      <td>2.212166</td>\n",
       "      <td>0.062147</td>\n",
       "      <td>200.000000</td>\n",
       "      <td>0.401806</td>\n",
       "      <td>-220.143023</td>\n",
       "      <td>1</td>\n",
       "    </tr>\n",
       "    <tr>\n",
       "      <th>1</th>\n",
       "      <td>1</td>\n",
       "      <td>1223</td>\n",
       "      <td>81.093360</td>\n",
       "      <td>136621.840843</td>\n",
       "      <td>1325.157127</td>\n",
       "      <td>1.656861</td>\n",
       "      <td>3.024668</td>\n",
       "      <td>5.261872</td>\n",
       "      <td>4.193762</td>\n",
       "      <td>4.193762</td>\n",
       "      <td>10.932000</td>\n",
       "      <td>3.414868</td>\n",
       "      <td>300.000000</td>\n",
       "      <td>-0.390200</td>\n",
       "      <td>-1087.938128</td>\n",
       "      <td>1</td>\n",
       "    </tr>\n",
       "    <tr>\n",
       "      <th>2</th>\n",
       "      <td>1</td>\n",
       "      <td>1372</td>\n",
       "      <td>9.561375</td>\n",
       "      <td>46487.097469</td>\n",
       "      <td>328.007564</td>\n",
       "      <td>0.006501</td>\n",
       "      <td>0.023232</td>\n",
       "      <td>0.051827</td>\n",
       "      <td>0.108083</td>\n",
       "      <td>0.203044</td>\n",
       "      <td>0.305920</td>\n",
       "      <td>0.004079</td>\n",
       "      <td>159.692076</td>\n",
       "      <td>0.019153</td>\n",
       "      <td>-30.540140</td>\n",
       "      <td>1</td>\n",
       "    </tr>\n",
       "    <tr>\n",
       "      <th>3</th>\n",
       "      <td>1</td>\n",
       "      <td>1942</td>\n",
       "      <td>45.300104</td>\n",
       "      <td>60822.217020</td>\n",
       "      <td>456.662307</td>\n",
       "      <td>0.001929</td>\n",
       "      <td>0.006495</td>\n",
       "      <td>0.013385</td>\n",
       "      <td>0.026442</td>\n",
       "      <td>0.069808</td>\n",
       "      <td>0.204603</td>\n",
       "      <td>0.000950</td>\n",
       "      <td>212.160378</td>\n",
       "      <td>0.005545</td>\n",
       "      <td>-20.446947</td>\n",
       "      <td>1</td>\n",
       "    </tr>\n",
       "    <tr>\n",
       "      <th>4</th>\n",
       "      <td>1</td>\n",
       "      <td>2712</td>\n",
       "      <td>1.605387</td>\n",
       "      <td>47671.768982</td>\n",
       "      <td>205.068902</td>\n",
       "      <td>0.067599</td>\n",
       "      <td>0.263878</td>\n",
       "      <td>0.642452</td>\n",
       "      <td>1.189923</td>\n",
       "      <td>2.064450</td>\n",
       "      <td>1.524508</td>\n",
       "      <td>0.034284</td>\n",
       "      <td>153.724351</td>\n",
       "      <td>0.229594</td>\n",
       "      <td>-151.808374</td>\n",
       "      <td>1</td>\n",
       "    </tr>\n",
       "  </tbody>\n",
       "</table>\n",
       "</div>"
      ],
      "text/plain": [
       "       Market  Stock         x0             x1           x2       x3A  \\\n",
       "Index                                                                   \n",
       "0           1    363   2.696447   53004.016031   400.809729  0.130005   \n",
       "1           1   1223  81.093360  136621.840843  1325.157127  1.656861   \n",
       "2           1   1372   9.561375   46487.097469   328.007564  0.006501   \n",
       "3           1   1942  45.300104   60822.217020   456.662307  0.001929   \n",
       "4           1   2712   1.605387   47671.768982   205.068902  0.067599   \n",
       "\n",
       "            x3B       x3C       x3D       x3E         x4        x5  \\\n",
       "Index                                                                \n",
       "0      0.463953  1.073594  2.180516  4.416943   2.212166  0.062147   \n",
       "1      3.024668  5.261872  4.193762  4.193762  10.932000  3.414868   \n",
       "2      0.023232  0.051827  0.108083  0.203044   0.305920  0.004079   \n",
       "3      0.006495  0.013385  0.026442  0.069808   0.204603  0.000950   \n",
       "4      0.263878  0.642452  1.189923  2.064450   1.524508  0.034284   \n",
       "\n",
       "               x6       new         new2  Day_group_10  \n",
       "Index                                                   \n",
       "0      200.000000  0.401806  -220.143023             1  \n",
       "1      300.000000 -0.390200 -1087.938128             1  \n",
       "2      159.692076  0.019153   -30.540140             1  \n",
       "3      212.160378  0.005545   -20.446947             1  \n",
       "4      153.724351  0.229594  -151.808374             1  "
      ]
     },
     "execution_count": 26,
     "metadata": {},
     "output_type": "execute_result"
    }
   ],
   "source": [
    "X_train.head()"
   ]
  },
  {
   "cell_type": "markdown",
   "metadata": {},
   "source": [
    "# Train a LightGBM model"
   ]
  },
  {
   "cell_type": "code",
   "execution_count": null,
   "metadata": {},
   "outputs": [
    {
     "name": "stderr",
     "output_type": "stream",
     "text": [
      "  0%|          | 0/15 [00:00<?, ?it/s]/home/borisov/anaconda3/lib/python3.6/site-packages/lightgbm/basic.py:1036: UserWarning: Using categorical_feature in Dataset.\n",
      "  warnings.warn('Using categorical_feature in Dataset.')\n",
      " 47%|████▋     | 7/15 [24:36<28:07, 210.97s/it]"
     ]
    }
   ],
   "source": [
    "# load data into train lightgbm dataset\n",
    "# notice I'm scaling up the target, making first two columns as categorical features, and load weights\n",
    "train = lg.Dataset(X_train, Y*10000, categorical_feature=[0, 1], weight=df.Weight, free_raw_data=False)\n",
    "\n",
    "# hyperparameters for the model\n",
    "parameters = {'num_leaves': 526, \n",
    " 'max_bin': 650, 'feature_fraction': '0.450', \n",
    " 'learning_rate': '0.009', 'reg_lambda': 3, 'bagging_freq': 2,\n",
    " 'min_data_in_leaf': 142, 'colsample_bytree': '0.670', \n",
    " 'metric': 'rmse', 'verbose': 1}\n",
    "\n",
    "boosts = 900\n",
    "num_ensembles = 15\n",
    "y_pred = 0.0\n",
    "\n",
    "# average 15 different models \n",
    "for i in tqdm(range(num_ensembles)):\n",
    "    parameters['seed'] = i * 2332\n",
    "    model = lg.train(parameters, train_set=train, num_boost_round=boosts + i + 15) \n",
    "    y_pred +=  model.predict(data=X_test)\n",
    "y_pred /= num_ensembles\n",
    "gc.collect()"
   ]
  },
  {
   "cell_type": "markdown",
   "metadata": {},
   "source": [
    "# Saving predictions "
   ]
  },
  {
   "cell_type": "code",
   "execution_count": 14,
   "metadata": {},
   "outputs": [
    {
     "data": {
      "text/plain": [
       "Index\n",
       "0    0.000562\n",
       "1   -0.000217\n",
       "2   -0.000009\n",
       "3    0.000029\n",
       "4    0.000553\n",
       "Name: y, dtype: float64"
      ]
     },
     "execution_count": 14,
     "metadata": {},
     "output_type": "execute_result"
    }
   ],
   "source": [
    "yp = pd.Series(y_pred.flatten()/10000).rename('y')\n",
    "yp.index.name = 'Index'\n",
    "yp.head()"
   ]
  },
  {
   "cell_type": "code",
   "execution_count": 20,
   "metadata": {},
   "outputs": [],
   "source": [
    "name = 'model_x'"
   ]
  },
  {
   "cell_type": "code",
   "execution_count": 18,
   "metadata": {},
   "outputs": [],
   "source": [
    "yp.to_csv('../sub/{}.csv'.format(name), header=True)"
   ]
  },
  {
   "cell_type": "code",
   "execution_count": null,
   "metadata": {},
   "outputs": [],
   "source": []
  },
  {
   "cell_type": "code",
   "execution_count": null,
   "metadata": {},
   "outputs": [],
   "source": []
  }
 ],
 "metadata": {
  "kernelspec": {
   "display_name": "Python 3",
   "language": "python",
   "name": "python3"
  },
  "language_info": {
   "codemirror_mode": {
    "name": "ipython",
    "version": 3
   },
   "file_extension": ".py",
   "mimetype": "text/x-python",
   "name": "python",
   "nbconvert_exporter": "python",
   "pygments_lexer": "ipython3",
   "version": "3.6.4"
  }
 },
 "nbformat": 4,
 "nbformat_minor": 2
}
